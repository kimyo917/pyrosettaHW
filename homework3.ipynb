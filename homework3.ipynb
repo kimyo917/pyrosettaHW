{
  "cells": [
    {
      "cell_type": "markdown",
      "metadata": {
        "id": "view-in-github",
        "colab_type": "text"
      },
      "source": [
        "<a href=\"https://colab.research.google.com/github/kimyo917/pyrosettaHW/blob/main/homework3.ipynb\" target=\"_parent\"><img src=\"https://colab.research.google.com/assets/colab-badge.svg\" alt=\"Open In Colab\"/></a>"
      ]
    },
    {
      "cell_type": "markdown",
      "metadata": {
        "id": "iJLH6RsFI5Ue"
      },
      "source": [
        "First, download this notebook and upload it to your Google Drive. Once it's in your Google Drive, you can open it with Google Colab. Write your code in Google Colab. When you're done, download the notebook from Google Colab and upload it to GitHub. This is exactly what you did in the previous assignment."
      ]
    },
    {
      "cell_type": "markdown",
      "metadata": {
        "id": "FvIpX79rI5Uh"
      },
      "source": [
        "# HW3 : More Python Exercises\n",
        "\n",
        "Hi everyone! Welcome to the third homework assignment. This assignment contains more Python exercises. You will practice using lists and the `if` statement."
      ]
    },
    {
      "cell_type": "markdown",
      "metadata": {
        "id": "EMDr5W8AI5Ui"
      },
      "source": [
        "### Problem 1: Age Predictor.\n",
        "\n",
        "Write a program to predict the age of the user. You will do this by asking six questions:\n",
        "\n",
        ">Question 1: \"Do you own a landline? (yes/no)\"\n",
        "\n",
        "Answer 1: \"yes\" is older, \"no\" is younger\n",
        "\n",
        ">Question 2: \"Do you know how to write in cursive? (yes/no)\"\n",
        "\n",
        "Answer 2: \"yes\" is older, \"no\" is younger\n",
        "\n",
        ">Question 3: \"Do you know how to use a rotary phone? (yes/no)\"\n",
        "\n",
        "Answer 3: \"yes\" is older, \"no\" is younger\n",
        "\n",
        ">Question 4: \"If I say \"up up down down left right left right\" what do you say?\"\n",
        "\n",
        "Answer 4: \"B A\" is younger, \"huh?\" is older\n",
        "\n",
        ">Question 5: \"Do you know what a floppy disk is? (yes/no)\"\n",
        "\n",
        "Answer 5: \"yes\" is older, \"no\" is younger\n",
        "\n",
        ">Question 6: \"What are records made of?\"\n",
        "\n",
        "Answer 6: \"vinyl\" is older, \"plastic\" is younger\n",
        "\n",
        "For each question, if the given answer is the older answer, add 1 to the age. If the given answer is the younger answer, subtract 1 from the age. If the given answer is neither, add 0 to the age.\n",
        "\n",
        "Now take the answers and average them. If the average is less than 0, print \"You are young!\" If the average is greater than 0, print \"You are old!\" If the average is 0, print \"You are timeless!\""
      ]
    },
    {
      "cell_type": "code",
      "execution_count": 5,
      "metadata": {
        "id": "pGAxt0I4I5Ui",
        "colab": {
          "base_uri": "https://localhost:8080/"
        },
        "outputId": "a6183d29-c1c8-417c-de59-1dfc876d1de5"
      },
      "outputs": [
        {
          "output_type": "stream",
          "name": "stdout",
          "text": [
            "Do you own a landline? (yes/no)no\n",
            "Do you know how to write in cursive? (yes/no)no\n",
            "Do you know how to use a rotary phone? (yes/no)yes\n",
            "If I say \"up up down down left right left right\" what do you say?\n",
            "1. B A\n",
            "2. huh?\n",
            "type your answer2\n",
            "Do you know what a floppy disk is? (yes/no)yes\n",
            "What are records made of?\n",
            "1. vinyl\n",
            "2. plastic\n",
            "type your answerplastic\n",
            "You are old!\n"
          ]
        }
      ],
      "source": [
        "age=0\n",
        "\n",
        "q1 = input(\"Do you own a landline? (yes/no)\")\n",
        "if q1=='yes':\n",
        "  age+=1\n",
        "elif q1=='no':\n",
        "  age-=1\n",
        "\n",
        "q2 = input( \"Do you know how to write in cursive? (yes/no)\")\n",
        "if q2=='yes':\n",
        "  age+=1\n",
        "elif q2=='no':\n",
        "  age-=1\n",
        "\n",
        "q3 = input(\"Do you know how to use a rotary phone? (yes/no)\")\n",
        "if q3=='yes':\n",
        "  age+=1\n",
        "elif q3=='no':\n",
        "  age-=1\n",
        "\n",
        "print('If I say \"up up down down left right left right\" what do you say?')\n",
        "print(\"1. B A\"+\"\\n\"+\"2. huh?\")\n",
        "q4 = input(\"type your answer\")\n",
        "if q4=='1':\n",
        "  age-=1\n",
        "elif q4=='2':\n",
        "  age+=1\n",
        "\n",
        "q5 =input(\"Do you know what a floppy disk is? (yes/no)\")\n",
        "if q5=='yes':\n",
        "  age+=1\n",
        "elif q5=='no':\n",
        "  age-=1\n",
        "\n",
        "print(\"What are records made of?\")\n",
        "print(\"1. vinyl\"+\"\\n\"+\"2. plastic\")\n",
        "q6 = input(\"type your answer\")\n",
        "if q6=='1':\n",
        "  age+=1\n",
        "elif q6=='2':\n",
        "  age-=1\n",
        "\n",
        "if age>0:\n",
        "  print(\"You are old!\")\n",
        "elif age<0:\n",
        "  print(\"You are young!\")\n",
        "elif age==0:\n",
        "  print(\"You are timeless!\")"
      ]
    },
    {
      "cell_type": "markdown",
      "metadata": {
        "id": "wPNtgJfzI5Uj"
      },
      "source": [
        "### Problem 2: Sorter.\n",
        "\n",
        "Write a program to sort a list of integers that the user gives you. Prompt the user to give you a list of integers, separated by spaces, and then hit enter. Once they've hit enter,\n",
        "1. convert the string that you are given into integers, and\n",
        "2. put those integers into a Python \"list\".\n",
        "\n",
        "(A list in Python is an array; it has the insertion and access complexity of an array and not a typical computer-science-class \"list.\" They're called lists anyways.)\n",
        "\n",
        "After you have created the list, use a function that list provides (google for it!) that will sort the contents of the list in ascending order.\n",
        "\n",
        "Then print the sorted list to the screen for the user.\n",
        "\n",
        "You may assume that the user is not going to input \"five\" to mean the number 5 or give you any non-integer inputs."
      ]
    },
    {
      "cell_type": "code",
      "execution_count": 6,
      "metadata": {
        "id": "oyntTYFaI5Uj",
        "colab": {
          "base_uri": "https://localhost:8080/"
        },
        "outputId": "49b3863c-5e5b-4f7b-890d-677d24d596fe"
      },
      "outputs": [
        {
          "output_type": "stream",
          "name": "stdout",
          "text": [
            "type a list of integers with a space between them. Do not type \"five\" to mean number 5.180 79 5 68 12\n",
            "[5, 12, 68, 79, 180]\n"
          ]
        }
      ],
      "source": [
        "numbers = input('type a list of integers with a space between them. Do not type \"five\" to mean number 5.')\n",
        "\n",
        "number_list=numbers.split(' ')\n",
        "int_list = []\n",
        "for number in number_list:\n",
        "  int_list.append(int(number))\n",
        "int_list.sort()\n",
        "print(int_list)"
      ]
    },
    {
      "cell_type": "markdown",
      "metadata": {
        "id": "ncJQgNTwI5Uk"
      },
      "source": [
        "### Problem 3: Repeater.\n",
        "\n",
        "Write a program that takes two lists of integers that the user gives you. Prompt for the first list, wait for them to hit enter, then prompt for the second list. The lists must be the same length.\n",
        "\n",
        "Print out the elements of the first list repeated as many times as requested in the second list.\n",
        "\n",
        "E.g.\n",
        "\n",
        ">Please enter your first list:\n",
        "\n",
        "1 2 3 4 5 6 7\n",
        "\n",
        ">Please enter your second list:\n",
        "\n",
        "0 2 1 0 3 2 1\n",
        "\n",
        ">Here are your results:\n",
        "\n",
        "2 2 3 5 5 5 6 6 7\n",
        "\n",
        "(The first element, 1, is repeated 0 times; the second element, 2, is repeated 2 times; the third element 3 is repeated 1 time; etc.)\n",
        "\n",
        "If the user gives you two lists of different length, print an error message to the screen instead of printing any numbers."
      ]
    },
    {
      "cell_type": "code",
      "execution_count": 9,
      "metadata": {
        "id": "2JEsp6_XI5Uk",
        "colab": {
          "base_uri": "https://localhost:8080/"
        },
        "outputId": "c34a2485-d96e-46e4-dc84-63de9baa214f"
      },
      "outputs": [
        {
          "output_type": "stream",
          "name": "stdout",
          "text": [
            "you are going to type two different lists of integers with same length. type the integers with a space between them.\n",
            "Please enter your first list1 2 3 4 5\n",
            "Please enter your second list1 2 3 2 1\n",
            "1 2 2 3 3 3 4 4 5 "
          ]
        }
      ],
      "source": [
        "print(\"you are going to type two different lists of integers with same length. type the integers with a space between them.\")\n",
        "first_string = input('Please enter your first list')\n",
        "second_string = input('Please enter your second list')\n",
        "\n",
        "first_list = first_string.split(' ')\n",
        "first_int=[]\n",
        "for number in first_list:\n",
        "  first_int.append(int(number))\n",
        "\n",
        "second_list = second_string.split(' ')\n",
        "second_int=[]\n",
        "for number in second_list:\n",
        "  second_int.append(int(number))\n",
        "\n",
        "for i in range(len(first_int)):\n",
        "  for j in range (int(second_list[i])):\n",
        "    print(first_list[i],end=\" \")"
      ]
    }
  ],
  "metadata": {
    "kernelspec": {
      "display_name": "Python 3",
      "language": "python",
      "name": "python3"
    },
    "language_info": {
      "codemirror_mode": {
        "name": "ipython",
        "version": 3
      },
      "file_extension": ".py",
      "mimetype": "text/x-python",
      "name": "python",
      "nbconvert_exporter": "python",
      "pygments_lexer": "ipython3",
      "version": "3.10.6"
    },
    "orig_nbformat": 4,
    "colab": {
      "provenance": [],
      "include_colab_link": true
    }
  },
  "nbformat": 4,
  "nbformat_minor": 0
}