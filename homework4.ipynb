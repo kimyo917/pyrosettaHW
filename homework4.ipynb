{
  "cells": [
    {
      "cell_type": "markdown",
      "metadata": {
        "id": "view-in-github",
        "colab_type": "text"
      },
      "source": [
        "<a href=\"https://colab.research.google.com/github/kimyo917/pyrosettaHW/blob/main/homework4.ipynb\" target=\"_parent\"><img src=\"https://colab.research.google.com/assets/colab-badge.svg\" alt=\"Open In Colab\"/></a>"
      ]
    },
    {
      "cell_type": "markdown",
      "metadata": {
        "id": "Rw5PRKyvT3iC"
      },
      "source": [
        "First, download this notebook and upload it to your Google Drive. Once it's in your Google Drive, you can open it with Google Colab. Write your code in Google Colab. When you're done, download the notebook from Google Colab and upload it to GitHub. This is exactly what you did in the previous assignment."
      ]
    },
    {
      "cell_type": "markdown",
      "metadata": {
        "id": "dTzzpq0yT3iE"
      },
      "source": [
        "# HW4 : Even More Python Exercises!\n",
        "\n",
        "Hi everyone! Welcome to the fourth homework assignment. This assignment contains more Python exercises – shocking(!) You will practice with basic plotting and writing many functions, and it will be a whole lot of fun. Let's get started!"
      ]
    },
    {
      "cell_type": "markdown",
      "metadata": {
        "id": "4cyFE4FAT3iE"
      },
      "source": [
        "## Part 0: Plotting\n",
        "\n",
        "In this section, you will practice plotting using the `matplotlib` library. You will also practice using `numpy` arrays.\n",
        "\n",
        "### Problem 0: Basic Plotting\n",
        "\n",
        "In this problem, you will plot the function f(x) = x^2 for x in the range [-10, 10].\n",
        "\n",
        "First, import the `matplotlib.pyplot` library as `plt`. Then, use the `linspace` function from the `numpy` library to create an array of 100 points between -10 and 10. Finally, plot the function f(x) = x^2 for x in the range [-10, 10]."
      ]
    },
    {
      "cell_type": "code",
      "execution_count": 4,
      "metadata": {
        "colab": {
          "base_uri": "https://localhost:8080/",
          "height": 430
        },
        "id": "P525zW7LT3iE",
        "outputId": "d7c97f3c-0a0b-4ff1-cab2-83141046ae6e"
      },
      "outputs": [
        {
          "output_type": "display_data",
          "data": {
            "text/plain": [
              "<Figure size 640x480 with 1 Axes>"
            ],
            "image/png": "[encoded data removed]"
          },
          "metadata": {}
        }
      ],
      "source": [
        "import matplotlib.pyplot as plt\n",
        "import numpy as np\n",
        "\n",
        "x = np.linspace(-10, 10, 100)\n",
        "y = x**2\n",
        "\n",
        "plt.plot(x, y)\n",
        "plt.show()"
      ]
    },
    {
      "cell_type": "markdown",
      "metadata": {
        "id": "9b-dmeuKT3iF"
      },
      "source": [
        "## Part 1: Functions\n",
        "\n",
        "Functions are a great way to organize computations. They allow you to break down a large problem into smaller, more manageable pieces. Functions also allow you to reuse code. If you find yourself writing the same code over and over again, you should consider writing a function.\n",
        "\n",
        "One fun thing about functions is that they can call themselves (recursion) and other functions. Recursion is a powerful technique that allows you to solve complex problems. In this section, you will practice writing recursive functions."
      ]
    },
    {
      "cell_type": "markdown",
      "metadata": {
        "id": "YddkuIy3T3iF"
      },
      "source": [
        "### Problem 1: Palindrome\n",
        "\n",
        "Write a function called `is_palindrome` that takes in a string `s` and returns `True` if `s` is a palindrome and `False` otherwise.\n",
        "\n",
        "A palindrome is a string that is the same forwards and backwards. For example, \"racecar\" is a palindrome.\n",
        "\n",
        "Your function should be able to call itself to check if the string is a palindrome. You should not use a loop to solve this problem.\n",
        "\n",
        "Once you have your function, call it to check if \"racecar\" is a palindrome. Bonus \"imaginary points\" if you can figure out how to check if \"Racecar\" is a palindrome."
      ]
    },
    {
      "cell_type": "code",
      "execution_count": 8,
      "metadata": {
        "colab": {
          "base_uri": "https://localhost:8080/"
        },
        "id": "0QmweJA8T3iF",
        "outputId": "5d8e813a-8641-49d9-f537-af2fd8439097"
      },
      "outputs": [
        {
          "output_type": "stream",
          "name": "stdout",
          "text": [
            "This string is palindrome!\n"
          ]
        }
      ],
      "source": [
        "def is_palindrome(string):\n",
        "  reverse = string[::-1]\n",
        "  if reverse == string:\n",
        "    print(\"This string is palindrome!\")\n",
        "  else:\n",
        "    print(\"This string is not palindrome!\")\n",
        "\n",
        "is_palindrome(\"racecar\")"
      ]
    },
    {
      "cell_type": "markdown",
      "metadata": {
        "id": "kgHkwzBtT3iG"
      },
      "source": [
        "### Problem 2: Factorial\n",
        "\n",
        "Write a function called `factorial` that takes in an integer `n` and returns the factorial of `n`.\n",
        "\n",
        "The factorial of a number is given by the recurrence relation:\n",
        "n! = n * (n-1)!\n",
        "\n",
        "The base case is 0! = 1.\n",
        "\n",
        "Your function should be able to call itself to compute the factorial of `n`. You should not use a loop to solve this problem.\n",
        "\n",
        "Once you have your function, call it to compute the factorial of 10."
      ]
    },
    {
      "cell_type": "code",
      "execution_count": 4,
      "metadata": {
        "colab": {
          "base_uri": "https://localhost:8080/"
        },
        "id": "Iju5qyaYT3iG",
        "outputId": "a7c71cf7-3bf8-4acf-8d50-2a5b32255b10"
      },
      "outputs": [
        {
          "output_type": "execute_result",
          "data": {
            "text/plain": [
              "3628800"
            ]
          },
          "metadata": {},
          "execution_count": 4
        }
      ],
      "source": [
        "def factorial(n):\n",
        "  if n==0:\n",
        "    return 1\n",
        "  return n*factorial(n-1)\n",
        "\n",
        "factorial(10)"
      ]
    },
    {
      "cell_type": "markdown",
      "metadata": {
        "id": "ns7lV4nvT3iG"
      },
      "source": [
        "### Problem 3: Fibonacci Sequence\n",
        "\n",
        "Write a function called `fibonacci` that takes in an integer `n` and returns the `n`th number in the Fibonacci sequence.\n",
        "\n",
        "The Fibonacci sequence is given by the recurrence relation:\n",
        "F(n) = F(n-1) + F(n-2)\n",
        "\n",
        "The first two numbers in the sequence are 0 and 1. That is, F(0) = 0 and F(1) = 1.\n",
        "\n",
        "Your function should be able to call itself to compute the `n`th number in the sequence. You should not use a loop to solve this problem.\n",
        "\n",
        "**Hint:** You will need to use an `if` statement to handle the base cases (n = 0 and n = 1).\n",
        "\n",
        "Once you have your function, call it to compute the 10th number in the sequence."
      ]
    },
    {
      "cell_type": "code",
      "execution_count": 8,
      "metadata": {
        "colab": {
          "base_uri": "https://localhost:8080/"
        },
        "id": "V-9IegfaT3iG",
        "outputId": "ab326fed-da9a-4a83-df92-6695f57f44a5"
      },
      "outputs": [
        {
          "output_type": "execute_result",
          "data": {
            "text/plain": [
              "55"
            ]
          },
          "metadata": {},
          "execution_count": 8
        }
      ],
      "source": [
        "def fibonacci(n):\n",
        "  if n==0:\n",
        "    return 0\n",
        "  if n==1:\n",
        "    return 1\n",
        "  return fibonacci(n-1)+fibonacci(n-2)\n",
        "\n",
        "fibonacci(10)"
      ]
    },
    {
      "cell_type": "markdown",
      "metadata": {
        "id": "D5yUYEbaT3iG"
      },
      "source": [
        "### Problem 3.5: Timed Fibonacci\n",
        "\n",
        "In this problem, you will plot the time it takes to compute the `n`th number in the Fibonacci sequence for `n` in the range [0, 30].\n",
        "\n",
        "First, import the `time` library. Then, create an empty list called `times`. Next, use a `for` loop to compute the `n`th number in the Fibonacci sequence for `n` in the range [0, 30]. For each `n`, compute the time it takes to compute the `n`th number in the Fibonacci sequence. Append this time to the `times` list. Finally, plot the time it takes to compute the `n`th number in the Fibonacci sequence for `n` in the range [0, 30].\n",
        "\n",
        "**Hint:** You will need to use the `time.time()` function to compute the time it takes to compute the `n`th number in the Fibonacci sequence. You will also need to use the `append` function to append the time to the `times` list."
      ]
    },
    {
      "cell_type": "code",
      "execution_count": 12,
      "metadata": {
        "colab": {
          "base_uri": "https://localhost:8080/",
          "height": 449
        },
        "id": "4AOn-hclT3iG",
        "outputId": "c028ac96-7325-4f37-b60b-f162dcf9de1d"
      },
      "outputs": [
        {
          "output_type": "display_data",
          "data": {
            "text/plain": [
              "<Figure size 640x480 with 1 Axes>"
            ],
            "image/png": "[encoded data removed]"
          },
          "metadata": {}
        }
      ],
      "source": [
        "import time\n",
        "import matplotlib.pyplot as plt\n",
        "\n",
        "times = []\n",
        "\n",
        "def fibonacci(n):\n",
        "    if n == 0:\n",
        "        return 0\n",
        "    if n == 1:\n",
        "        return 1\n",
        "    return fibonacci(n - 1) + fibonacci(n - 2)\n",
        "\n",
        "for n in range(0, 30):\n",
        "    start = time.time()\n",
        "    fibonacci(n)\n",
        "    end = time.time()\n",
        "    times.append(end - start)\n",
        "\n",
        "x = range(0, 30)\n",
        "plt.plot(x, times)\n",
        "plt.xlabel('n')\n",
        "plt.ylabel('time(s)')\n",
        "plt.show()\n"
      ]
    }
  ],
  "metadata": {
    "kernelspec": {
      "display_name": "Python 3",
      "language": "python",
      "name": "python3"
    },
    "language_info": {
      "codemirror_mode": {
        "name": "ipython",
        "version": 3
      },
      "file_extension": ".py",
      "mimetype": "text/x-python",
      "name": "python",
      "nbconvert_exporter": "python",
      "pygments_lexer": "ipython3",
      "version": "3.10.6"
    },
    "orig_nbformat": 4,
    "colab": {
      "provenance": [],
      "include_colab_link": true
    }
  },
  "nbformat": 4,
  "nbformat_minor": 0
}